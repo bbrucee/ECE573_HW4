{
 "cells": [
  {
   "cell_type": "markdown",
   "metadata": {},
   "source": [
    "Q1. Write a program that answers the following for an undirected graph: Is a graph acyclic?  Run your program on graph (linked after Q2)"
   ]
  },
  {
   "cell_type": "code",
   "execution_count": 1,
   "metadata": {},
   "outputs": [],
   "source": [
    "# We can use a depth first traversal to detect cycles in a graph\n",
    "# If while visiting adjacent vertices we end up visiting something that has already been visited\n",
    "# Return False, graph is not acyclic\n",
    "# Else\n",
    "# Return True, graph is acyclic"
   ]
  },
  {
   "cell_type": "markdown",
   "metadata": {},
   "source": [
    "Q2. Implement and execute Prim's and Kruskal's algorithms on the graph linked below (the third field is the weight of an edge). Which performs better? Explain your answer."
   ]
  },
  {
   "cell_type": "code",
   "execution_count": null,
   "metadata": {},
   "outputs": [],
   "source": [
    "# https://www.geeksforgeeks.org/prims-minimum-spanning-tree-mst-greedy-algo-5/"
   ]
  },
  {
   "cell_type": "code",
   "execution_count": null,
   "metadata": {},
   "outputs": [],
   "source": [
    "# https://www.geeksforgeeks.org/kruskals-minimum-spanning-tree-algorithm-greedy-algo-2/"
   ]
  },
  {
   "cell_type": "markdown",
   "metadata": {},
   "source": [
    "Q3. For the edge-weighted directed acyclic graph given below, compute (i.e., manually trace) both the longest path and the shortest path.\n",
    "\n",
    "8\n",
    "13\n",
    "5 4 0.35\n",
    "4 7 0.37\n",
    "5 7 0.28\n",
    "5 1 0.32\n",
    "4 0 0.38\n",
    "0 2 0.26\n",
    "3 7 0.39\n",
    "1 3 0.29\n",
    "7 2 0.34\n",
    "6 2 0.40\n",
    "3 6 0.52\n",
    "6 0 0.58\n",
    "6 4 0.93"
   ]
  },
  {
   "cell_type": "code",
   "execution_count": null,
   "metadata": {},
   "outputs": [],
   "source": []
  },
  {
   "cell_type": "markdown",
   "metadata": {},
   "source": [
    "Q4. (a) For the digraph with negative weights, compute (i.e. manually\n",
    "trace) the progress of the Bellman-Ford Algorithm.  \n",
    "\n",
    "8\n",
    "15\n",
    "4 5  0.35\n",
    "5 4  0.35\n",
    "4 7  0.37\n",
    "5 7  0.28\n",
    "7 5  0.28\n",
    "5 1  0.32\n",
    "0 4  0.38\n",
    "0 2  0.26\n",
    "7 3  0.39\n",
    "1 3  0.29\n",
    "2 7  0.34\n",
    "6 2 -1.20\n",
    "3 6  0.52\n",
    "6 0 -1.40\n",
    "6 4 -1.25"
   ]
  },
  {
   "cell_type": "code",
   "execution_count": null,
   "metadata": {},
   "outputs": [],
   "source": [
    "# https://www.geeksforgeeks.org/bellman-ford-algorithm-dp-23/"
   ]
  },
  {
   "cell_type": "markdown",
   "metadata": {},
   "source": [
    "Q4. (b) For the digraph with a negative cycle, compute (i.e. manually\n",
    "trace) the progress of the Bellman-Ford Algorithm.  \n",
    "\n",
    "8\n",
    "15\n",
    "4 5  0.35\n",
    "5 4 -0.66\n",
    "4 7  0.37\n",
    "5 7  0.28\n",
    "7 5  0.28\n",
    "5 1  0.32\n",
    "0 4  0.38\n",
    "0 2  0.26\n",
    "7 3  0.39\n",
    "1 3  0.29\n",
    "2 7  0.34\n",
    "6 2  0.40\n",
    "3 6  0.52\n",
    "6 0  0.58\n",
    "6 4  0.93"
   ]
  },
  {
   "cell_type": "code",
   "execution_count": null,
   "metadata": {},
   "outputs": [],
   "source": [
    "# https://www.geeksforgeeks.org/bellman-ford-algorithm-dp-23/"
   ]
  },
  {
   "cell_type": "markdown",
   "metadata": {},
   "source": [
    "Q5. Implement a DFS and BFS traversal for the data-set of the undirected road network of New York City. The graph contains 264346 vertices and 733846 edges. It is connected, contains parallel edges, but no self-loops. The edge weights are travel times and are strictly positive.   "
   ]
  },
  {
   "cell_type": "code",
   "execution_count": null,
   "metadata": {},
   "outputs": [],
   "source": [
    "# https://medium.com/leetcode-patterns/leetcode-pattern-1-bfs-dfs-25-of-the-problems-part-1-519450a84353"
   ]
  },
  {
   "cell_type": "markdown",
   "metadata": {},
   "source": [
    "Q6. Implement the shortest path using Djikstra's Algorithm for the graph in HW5 Q 4(b).  Then run your implementation of Djikstra's on HW5 4(a). What happens? Explain."
   ]
  },
  {
   "cell_type": "code",
   "execution_count": null,
   "metadata": {},
   "outputs": [],
   "source": [
    "# https://www.geeksforgeeks.org/dijkstras-shortest-path-algorithm-greedy-algo-7/"
   ]
  }
 ],
 "metadata": {
  "kernelspec": {
   "display_name": "Python 3",
   "language": "python",
   "name": "python3"
  },
  "language_info": {
   "codemirror_mode": {
    "name": "ipython",
    "version": 3
   },
   "file_extension": ".py",
   "mimetype": "text/x-python",
   "name": "python",
   "nbconvert_exporter": "python",
   "pygments_lexer": "ipython3",
   "version": "3.5.6"
  }
 },
 "nbformat": 4,
 "nbformat_minor": 2
}
