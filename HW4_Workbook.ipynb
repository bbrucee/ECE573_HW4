{
 "cells": [
  {
   "cell_type": "markdown",
   "metadata": {},
   "source": [
    "Q1. Write a program that answers the following for an undirected graph: Is a graph acyclic?  Run your program on graph (linked after Q2)"
   ]
  },
  {
   "cell_type": "code",
   "execution_count": 26,
   "metadata": {},
   "outputs": [
    {
     "name": "stdout",
     "output_type": "stream",
     "text": [
      "Following is Depth First Traversal\n",
      "0\n",
      "1\n",
      "2\n",
      "3\n",
      "Is acyclic? False\n"
     ]
    }
   ],
   "source": [
    "# We can use a depth first traversal to detect cycles in a graph\n",
    "\n",
    "# If while visiting adjacent vertices we end up visiting something that has already been visited\n",
    "# Return False, graph is not acyclic\n",
    "# Else\n",
    "# Return True, graph is acyclic\n",
    "\n",
    "# But not exactly like that because we need to traverse \n",
    "# Also need to handle the cases of a disconnected graph\n",
    "\n",
    "# Based on https://www.geeksforgeeks.org/depth-first-search-or-dfs-for-a-graph/\n",
    "# modified for use\n",
    "\n",
    "# This class represents a directed graph using adjacency \n",
    "# list representation \n",
    "class Graph: \n",
    "    cyclic_bool = False\n",
    "\n",
    "    def __init__(self, num_vertices): \n",
    "        self.graph = [[] for _ in range(num_vertices)]\n",
    "  \n",
    "    # function to add an edge to graph \n",
    "    def addEdge(self, u, v): \n",
    "        self.graph[u].append(v) \n",
    "  \n",
    "    # A function used by DFS \n",
    "    def DFSUtil(self, v, visited): \n",
    "  \n",
    "        # Mark the current node as visited and print it \n",
    "        visited[v]= True\n",
    "        print(v)\n",
    "  \n",
    "        # Recur for all the vertices adjacent to \n",
    "        # this vertex \n",
    "        for i in self.graph[v]: # Uses adjacency list to store edges, visit all neighbors\n",
    "            if not visited[i]: # Only if it is unvisited\n",
    "                self.DFSUtil(i, visited) \n",
    "            else: # If the DFS tries to visit a neighbor that has already visited, then there must be a cycle\n",
    "                cyclic_bool = True\n",
    "  \n",
    "  \n",
    "    # The function to do DFS traversal. It uses \n",
    "    # recursive DFSUtil() \n",
    "    def DFS(self): \n",
    "        V = len(self.graph)  #total vertices \n",
    "  \n",
    "        # Mark all the vertices as not visited \n",
    "        visited =[False]*(V) \n",
    "  \n",
    "        # Call the recursive helper function to print \n",
    "        # DFS traversal starting from all vertices one \n",
    "        # by one \n",
    "        for i in range(V): # Visits each node in the graph\n",
    "            if not visited[i]: # But only if it is unvisited\n",
    "                self.DFSUtil(i, visited) \n",
    "        \n",
    "\n",
    "# Driver code \n",
    "# Create a graph given in the above diagram \n",
    "g = Graph(4) \n",
    "g.addEdge(0, 1) \n",
    "g.addEdge(0, 2) \n",
    "g.addEdge(1, 2) \n",
    "g.addEdge(2, 0) \n",
    "g.addEdge(2, 3) \n",
    "g.addEdge(3, 3) \n",
    "  \n",
    "print(\"Following is Depth First Traversal\")\n",
    "g.DFS()     \n",
    "print(\"Is acyclic? {}\".format(g.cyclic_bool))"
   ]
  },
  {
   "cell_type": "markdown",
   "metadata": {},
   "source": [
    "Q2. Implement and execute Prim's and Kruskal's algorithms on the graph linked below (the third field is the weight of an edge). Which performs better? Explain your answer."
   ]
  },
  {
   "cell_type": "code",
   "execution_count": null,
   "metadata": {},
   "outputs": [],
   "source": [
    "# https://www.geeksforgeeks.org/prims-minimum-spanning-tree-mst-greedy-algo-5/"
   ]
  },
  {
   "cell_type": "code",
   "execution_count": null,
   "metadata": {},
   "outputs": [],
   "source": [
    "# https://www.geeksforgeeks.org/kruskals-minimum-spanning-tree-algorithm-greedy-algo-2/"
   ]
  },
  {
   "cell_type": "markdown",
   "metadata": {},
   "source": [
    "Q3. For the edge-weighted directed acyclic graph given below, compute (i.e., manually trace) both the longest path and the shortest path.\n",
    "\n",
    "8\n",
    "13\n",
    "5 4 0.35\n",
    "4 7 0.37\n",
    "5 7 0.28\n",
    "5 1 0.32\n",
    "4 0 0.38\n",
    "0 2 0.26\n",
    "3 7 0.39\n",
    "1 3 0.29\n",
    "7 2 0.34\n",
    "6 2 0.40\n",
    "3 6 0.52\n",
    "6 0 0.58\n",
    "6 4 0.93"
   ]
  },
  {
   "cell_type": "code",
   "execution_count": null,
   "metadata": {},
   "outputs": [],
   "source": []
  },
  {
   "cell_type": "markdown",
   "metadata": {},
   "source": [
    "Q4. (a) For the digraph with negative weights, compute (i.e. manually\n",
    "trace) the progress of the Bellman-Ford Algorithm.  \n",
    "\n",
    "8\n",
    "15\n",
    "4 5  0.35\n",
    "5 4  0.35\n",
    "4 7  0.37\n",
    "5 7  0.28\n",
    "7 5  0.28\n",
    "5 1  0.32\n",
    "0 4  0.38\n",
    "0 2  0.26\n",
    "7 3  0.39\n",
    "1 3  0.29\n",
    "2 7  0.34\n",
    "6 2 -1.20\n",
    "3 6  0.52\n",
    "6 0 -1.40\n",
    "6 4 -1.25"
   ]
  },
  {
   "cell_type": "markdown",
   "metadata": {},
   "source": [
    "Done on paper"
   ]
  },
  {
   "cell_type": "markdown",
   "metadata": {},
   "source": [
    "Q4. (b) For the digraph with a negative cycle, compute (i.e. manually\n",
    "trace) the progress of the Bellman-Ford Algorithm.  \n",
    "\n",
    "8\n",
    "15\n",
    "4 5  0.35\n",
    "5 4 -0.66\n",
    "4 7  0.37\n",
    "5 7  0.28\n",
    "7 5  0.28\n",
    "5 1  0.32\n",
    "0 4  0.38\n",
    "0 2  0.26\n",
    "7 3  0.39\n",
    "1 3  0.29\n",
    "2 7  0.34\n",
    "6 2  0.40\n",
    "3 6  0.52\n",
    "6 0  0.58\n",
    "6 4  0.93"
   ]
  },
  {
   "cell_type": "markdown",
   "metadata": {},
   "source": [
    "Done on paper"
   ]
  },
  {
   "cell_type": "markdown",
   "metadata": {},
   "source": [
    "Q5. Implement a DFS and BFS traversal for the data-set of the undirected road network of New York City. The graph contains 264346 vertices and 733846 edges. It is connected, contains parallel edges, but no self-loops. The edge weights are travel times and are strictly positive.   "
   ]
  },
  {
   "cell_type": "code",
   "execution_count": null,
   "metadata": {},
   "outputs": [],
   "source": [
    "# https://medium.freecodecamp.org/exploring-the-applications-and-limits-of-breadth-first-search-to-the-shortest-paths-in-a-weighted-1e7b28b3307"
   ]
  },
  {
   "cell_type": "markdown",
   "metadata": {},
   "source": [
    "Q6. Implement the shortest path using Djikstra's Algorithm for the graph in HW5 Q 4(b).  Then run your implementation of Djikstra's on HW5 4(a). What happens? Explain."
   ]
  },
  {
   "cell_type": "code",
   "execution_count": 35,
   "metadata": {},
   "outputs": [
    {
     "name": "stdout",
     "output_type": "stream",
     "text": [
      "Vertex || Distance from Source\n",
      "0 || 0\n",
      "1 || 4\n",
      "2 || 12\n",
      "3 || 19\n",
      "4 || 21\n",
      "5 || 11\n",
      "6 || 9\n",
      "7 || 8\n",
      "8 || 14\n"
     ]
    }
   ],
   "source": [
    "# https://www.geeksforgeeks.org/dijkstras-shortest-path-algorithm-greedy-algo-7/\n",
    "\n",
    "# Python program for Dijkstra's single  \n",
    "# source shortest path algorithm. The program is  \n",
    "# for adjacency matrix representation of the graph \n",
    "    \n",
    "class Graph(): \n",
    "  \n",
    "    def __init__(self, vertices): \n",
    "        self.V = vertices \n",
    "        self.graph = [[0 for column in range(vertices)]  \n",
    "                      for row in range(vertices)] \n",
    "  \n",
    "    def printSolution(self, dist): \n",
    "        print(\"Vertex || Distance from Source\")\n",
    "        for node in range(self.V): \n",
    "            print(node,\"||\",dist[node]) \n",
    "  \n",
    "    # A utility function to find the vertex with  \n",
    "    # minimum distance value, from the set of vertices  \n",
    "    # not yet included in shortest path tree \n",
    "    def minDistance(self, dist, sptSet): \n",
    "  \n",
    "        # Initilaize minimum distance for next node \n",
    "        min_val = float(\"inf\")\n",
    "  \n",
    "        # Search not nearest vertex not in the  \n",
    "        # shortest path tree \n",
    "        for v in range(self.V): \n",
    "            if dist[v] < min_val and not sptSet[v]: \n",
    "                min_val = dist[v]\n",
    "                min_index = v\n",
    "  \n",
    "        return min_index \n",
    "  \n",
    "    # Funtion that implements Dijkstra's single source  \n",
    "    # shortest path algorithm for a graph represented  \n",
    "    # using adjacency matrix representation \n",
    "    def dijkstra(self, src): \n",
    "  \n",
    "        dist = [float(\"inf\")] * self.V \n",
    "        dist[src] = 0\n",
    "        sptSet = [False] * self.V \n",
    "  \n",
    "        for cout in range(self.V): \n",
    "  \n",
    "            # Pick the minimum distance vertex from  \n",
    "            # the set of vertices not yet processed.  \n",
    "            # u is always equal to src in first iteration \n",
    "            u = self.minDistance(dist, sptSet) \n",
    "  \n",
    "            # Put the minimum distance vertex in the  \n",
    "            # shotest path tree \n",
    "            sptSet[u] = True\n",
    "  \n",
    "            # Update dist value of the adjacent vertices  \n",
    "            # of the picked vertex only if the current  \n",
    "            # distance is greater than new distance and \n",
    "            # the vertex in not in the shotest path tree \n",
    "            for v in range(self.V): \n",
    "                if self.graph[u][v] > 0 and sptSet[v] == False and dist[v] > dist[u] + self.graph[u][v]: \n",
    "                        dist[v] = dist[u] + self.graph[u][v] \n",
    "  \n",
    "        self.printSolution(dist)\n",
    "    \n",
    "# Driver program \n",
    "g  = Graph(9) \n",
    "g.graph = [[0, 4, 0, 0, 0, 0, 0, 8, 0], \n",
    "           [4, 0, 8, 0, 0, 0, 0, 11, 0], \n",
    "           [0, 8, 0, 7, 0, 4, 0, 0, 2], \n",
    "           [0, 0, 7, 0, 9, 14, 0, 0, 0], \n",
    "           [0, 0, 0, 9, 0, 10, 0, 0, 0], \n",
    "           [0, 0, 4, 14, 10, 0, 2, 0, 0], \n",
    "           [0, 0, 0, 0, 0, 2, 0, 1, 6], \n",
    "           [8, 11, 0, 0, 0, 0, 1, 0, 7], \n",
    "           [0, 0, 2, 0, 0, 0, 6, 7, 0] \n",
    "          ]\n",
    "  \n",
    "g.dijkstra(0)\n",
    "  \n",
    "# This code is contributed by Divyanshu Mehta \n"
   ]
  },
  {
   "cell_type": "code",
   "execution_count": null,
   "metadata": {},
   "outputs": [],
   "source": []
  }
 ],
 "metadata": {
  "kernelspec": {
   "display_name": "Python 3",
   "language": "python",
   "name": "python3"
  },
  "language_info": {
   "codemirror_mode": {
    "name": "ipython",
    "version": 3
   },
   "file_extension": ".py",
   "mimetype": "text/x-python",
   "name": "python",
   "nbconvert_exporter": "python",
   "pygments_lexer": "ipython3",
   "version": "3.5.6"
  }
 },
 "nbformat": 4,
 "nbformat_minor": 2
}
