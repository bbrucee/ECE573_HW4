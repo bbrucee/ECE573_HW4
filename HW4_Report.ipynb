{
 "cells": [
  {
   "cell_type": "markdown",
   "metadata": {},
   "source": [
    "**Brendan Bruce**\n",
    "\n",
    "**ECE 573: HW4**\n",
    "\n",
    "**Due Date: 4/30/2019**"
   ]
  },
  {
   "cell_type": "code",
   "execution_count": 1,
   "metadata": {},
   "outputs": [],
   "source": [
    "from experiments import *"
   ]
  },
  {
   "cell_type": "markdown",
   "metadata": {},
   "source": [
    "# Question 1\n",
    "\n",
    "Q1. Write a program that answers the following for an undirected graph: Is a graph acyclic?  Run your program on the graph provided. "
   ]
  },
  {
   "cell_type": "markdown",
   "metadata": {},
   "source": [
    "## Discussion\n",
    "\n",
    "Two approaches came to mind for finding cycles in a graph: Use a DFS or find if there are connected components.\n",
    "\n",
    "In the DFS approach (the one I have implemented), we would perform a DFS and if a node that has been visited is visited again then it must be part of a cycle.\n",
    "\n",
    "In the connected components approach we use the fact that if there are connected components then there must be cycles. However, the method I would have used to implement this would have been the double DFS approach so I figured, because we just want to know IF there are cycles and not WHAT are the cycles, then I would be better off using the simple DFS approach."
   ]
  },
  {
   "cell_type": "markdown",
   "metadata": {},
   "source": [
    "## Results"
   ]
  },
  {
   "cell_type": "code",
   "execution_count": 2,
   "metadata": {},
   "outputs": [
    {
     "name": "stdout",
     "output_type": "stream",
     "text": [
      "250 vertices, 1273 edges\n",
      "Running modified DFS to look for cycles\n",
      "Does graph contain cycles? True\n"
     ]
    }
   ],
   "source": [
    "q1()"
   ]
  },
  {
   "cell_type": "markdown",
   "metadata": {},
   "source": [
    "# Question 2\n",
    "Q2. Implement and execute Prim's and Kruskal's algorithms on the graph linked below (the third field is the weight of an edge). Which performs better? Explain your answer."
   ]
  },
  {
   "cell_type": "markdown",
   "metadata": {},
   "source": [
    "## Discussion\n",
    "\n",
    "After implementing both algorithms to find the MST, we find that Kruskals completes much faster than Prims. Because it is the same input data, we must conclude that Kruskals outperforms Prims experimentally.\n",
    "\n",
    "Doing some research on the topic, it appears that implementation of the algorithms dictate their performance. Specifically, Prim's will vary from O(|V|^2) to O(|E|+|V|log|V|) where V is num vertices and E is num edges depending on if it is made using an adjacency matrix or an adjacency list. In the implementation used for the below results, Prim's uses an adjacency matrix which explains the longer runtime."
   ]
  },
  {
   "cell_type": "markdown",
   "metadata": {},
   "source": [
    "## Results"
   ]
  },
  {
   "cell_type": "markdown",
   "metadata": {},
   "source": [
    "From running each algorithm on the linked graph we get the following runtimes:\n",
    "\n",
    "Kruskals completes in 0.014340002616892611 seconds\n",
    "\n",
    "Prims completes in 0.31722370449593523 seconds"
   ]
  },
  {
   "cell_type": "markdown",
   "metadata": {},
   "source": [
    "# Question 3\n",
    "\n",
    "Q3. For the edge-weighted directed acyclic graph given below, compute (i.e., manually trace) both the longest path and the shortest path.\n",
    "\n",
    "8<br>\n",
    "13<br>\n",
    "5 4 0.35<br>\n",
    "4 7 0.37<br>\n",
    "5 7 0.28<br>\n",
    "5 1 0.32<br>\n",
    "4 0 0.38<br>\n",
    "0 2 0.26<br>\n",
    "3 7 0.39<br>\n",
    "1 3 0.29<br>\n",
    "7 2 0.34<br>\n",
    "6 2 0.40<br>\n",
    "3 6 0.52<br>\n",
    "6 0 0.58<br>\n",
    "6 4 0.93<br>\n",
    "\n",
    "## Manual Trace\n",
    "\n",
    "![title](Q3/Q3_manual_trace.jpg)\n",
    "\n",
    "## Discussion\n",
    "\n",
    "To reduce the amount of work I needed to do I used two special properties and also used Bellman-Ford, the algorithm I had already traced for question 4.\n",
    "\n",
    "The first property is that a DAG can be topologically sorted and that if we do Bellman Ford in topological order, then we will find the shortest path in a single iteration of the algorithm.\n",
    " \n",
    "The second property is that if we make all the weights in the graph negative, then the shortest path will then be the longest path after negating all of the results. \n",
    "\n",
    "With these two properties I was able to produce the trace in minimal calculations.\n",
    "\n",
    "For topological sorting I plotted the graphs on an app that let me drag and drop nodes and I played around with it until they were in topological order."
   ]
  },
  {
   "cell_type": "markdown",
   "metadata": {},
   "source": [
    "# Question 4a\n",
    "\n",
    "Q4. (a) For the digraph with negative weights, compute (i.e. manually\n",
    "trace) the progress of the Bellman-Ford Algorithm.  \n",
    "\n",
    "8<br>\n",
    "15<br>\n",
    "4 5  0.35<br>\n",
    "5 4  0.35<br>\n",
    "4 7  0.37<br>\n",
    "5 7  0.28<br>\n",
    "7 5  0.28<br>\n",
    "5 1  0.32<br>\n",
    "0 4  0.38<br>\n",
    "0 2  0.26<br>\n",
    "7 3  0.39<br>\n",
    "1 3  0.29<br>\n",
    "2 7  0.34<br>\n",
    "6 2 -1.20<br>\n",
    "3 6  0.52<br>\n",
    "6 0 -1.40<br>\n",
    "6 4 -1.25<br>\n",
    "\n",
    "## Manual Trace\n",
    "\n",
    "![title](Q4/Q4a_manual_trace.jpg)\n",
    "\n",
    "## Discussion\n",
    "\n",
    "The Bellman-Ford algorithm needs to run at most |V|-1 times to find the shortest path from source to each node. However, if no changes occur after an iteration then we can terminate early. This works because the underlying mechanic in the Bellman-Ford algorithm is that on each iteration we are guarenteeing that the shortest path of length equal to the iteration number is found. In the worst case, a graph with |V| vertices can have a vertex where the shortest path is |V|-1 vertices away from the source. In the above graph, thankfully we avoid the worst case."
   ]
  },
  {
   "cell_type": "markdown",
   "metadata": {},
   "source": [
    "# Question 4b\n",
    "\n",
    "Q4. (b) For the digraph with a negative cycle, compute (i.e. manually\n",
    "trace) the progress of the Bellman-Ford Algorithm.  \n",
    "\n",
    "8<br>\n",
    "15<br>\n",
    "4 5  0.35<br>\n",
    "5 4 -0.66<br>\n",
    "4 7  0.37<br>\n",
    "5 7  0.28<br>\n",
    "7 5  0.28<br>\n",
    "5 1  0.32<br>\n",
    "0 4  0.38<br>\n",
    "0 2  0.26<br>\n",
    "7 3  0.39<br>\n",
    "1 3  0.29<br>\n",
    "2 7  0.34<br>\n",
    "6 2  0.40<br>\n",
    "3 6  0.52<br>\n",
    "6 0  0.58<br>\n",
    "6 4  0.93<br>\n",
    "\n",
    "## Manual Trace\n",
    "\n",
    "![title](Q4/Q4b_manual_trace.jpg)\n",
    "\n",
    "## Discussion\n",
    "In the case of a negative cycle, the shortest path from any node to any node can get stuck in repetive traversals of the negative cycle making the shortest path negative infinity. This is the case in the above graph, easily seen when we perform an extra iteration and find that the shortest path to the source node becomes a negative weight instead of 0. What this would imply is that if we did infinity iterations of Bellman-Ford we would eventually have each shortest path be negative infinity."
   ]
  },
  {
   "cell_type": "markdown",
   "metadata": {},
   "source": [
    "# Question 5\n",
    "\n",
    "Q5. Implement a DFS and BFS traversal for the data-set of the undirected road network of New York City. The graph contains 264346 vertices and 733846 edges. It is connected, contains parallel edges, but no self-loops. The edge weights are travel times and are strictly positive.   "
   ]
  },
  {
   "cell_type": "markdown",
   "metadata": {},
   "source": [
    "## Discussion\n",
    "\n",
    "I ended up working with two DFS implementations for this problem. The first implementation was recursive, this caused issues due to hitting the limit of the recursion stack and crashing my program. I did not realize this until trying to run on the NYC dataset, which was sufficiently big to break the program.\n",
    "\n",
    "The BFS was an iterative approach that adds each neighbor to a queue and then visits the next unvisited item in the queue.\n",
    "\n",
    "After learning that the DFS would break I modified it to mirror the BFS. We learned in class that the key difference in BFS vs. DFS is that BFS uses a queue and DFS uses a stack. Therefore, I copied pasted BFS and changed it to use a stack to get a DFS.\n",
    "\n",
    "The DFS then became an iterative approach that adds each neighbor to a stack and then visits the next unvisited item in the stack."
   ]
  },
  {
   "cell_type": "markdown",
   "metadata": {},
   "source": [
    "## Results\n",
    "\n",
    "The traversals are very long so I did not include the print of each."
   ]
  },
  {
   "cell_type": "markdown",
   "metadata": {},
   "source": [
    "# Question 6\n",
    "\n",
    "Q6. Implement the shortest path using Djikstra's Algorithm for the graph in HW5 Q 4(b). Then run your implementation of Djikstra's on HW5 4(a). What happens? Explain."
   ]
  },
  {
   "cell_type": "markdown",
   "metadata": {},
   "source": [
    "## Discussion\n",
    "\n",
    "Dijkstra's algorithm is a greedy algorithm, it selects the shortest edge weight at every opportunity to do so. The issue arises when we have graphs with negative edge weights. The shortest path produced by Dijkstra is not guarenteed to account for these negative edges and therefore won't be shortest paths but rather short paths.\n",
    "\n",
    "An analogy would be if you were offered to buy a 10 dollar discount for 5 dollars. Dijkstra would reject the discount while Bellman-Ford would try the discount."
   ]
  },
  {
   "cell_type": "markdown",
   "metadata": {},
   "source": [
    "## Results\n",
    "\n",
    "In our results we see that the outputs from Dijkstra differ from our manual trace of Bellman-Ford."
   ]
  },
  {
   "cell_type": "code",
   "execution_count": 4,
   "metadata": {},
   "outputs": [
    {
     "name": "stdout",
     "output_type": "stream",
     "text": [
      "Running Dijkstra on graph from Q4a (negative weights)\n",
      "Vertex   Distance from Source\n",
      "0 \t\t 0.00\n",
      "1 \t\t 1.05\n",
      "2 \t\t 0.26\n",
      "3 \t\t 0.99\n",
      "4 \t\t 0.38\n",
      "5 \t\t 0.73\n",
      "6 \t\t 1.51\n",
      "7 \t\t 0.60\n",
      "Running Dijkstra on graph from Q4b (negative cycle)\n",
      "Vertex   Distance from Source\n",
      "0 \t\t 0.00\n",
      "1 \t\t 1.05\n",
      "2 \t\t 0.26\n",
      "3 \t\t 0.99\n",
      "4 \t\t 0.38\n",
      "5 \t\t 0.73\n",
      "6 \t\t 1.51\n",
      "7 \t\t 0.60\n"
     ]
    }
   ],
   "source": [
    "q6()"
   ]
  }
 ],
 "metadata": {
  "kernelspec": {
   "display_name": "Python 3",
   "language": "python",
   "name": "python3"
  },
  "language_info": {
   "codemirror_mode": {
    "name": "ipython",
    "version": 3
   },
   "file_extension": ".py",
   "mimetype": "text/x-python",
   "name": "python",
   "nbconvert_exporter": "python",
   "pygments_lexer": "ipython3",
   "version": "3.5.6"
  }
 },
 "nbformat": 4,
 "nbformat_minor": 2
}
